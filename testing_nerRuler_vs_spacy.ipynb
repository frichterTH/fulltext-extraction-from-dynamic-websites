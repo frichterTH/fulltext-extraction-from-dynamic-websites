{
 "cells": [
  {
   "cell_type": "code",
   "execution_count": 48,
   "id": "9177106a",
   "metadata": {},
   "outputs": [],
   "source": [
    "import spacy\n",
    "from spacy import displacy\n",
    "from spacy.lang.en import English"
   ]
  },
  {
   "cell_type": "code",
   "execution_count": 95,
   "id": "89f20cb3",
   "metadata": {},
   "outputs": [],
   "source": [
    "# reads in text file\n",
    "with open('10_fulltexts.txt', 'r', encoding='utf-8') as f:\n",
    "    text = f.read()"
   ]
  },
  {
   "cell_type": "markdown",
   "id": "b5c36e3e",
   "metadata": {},
   "source": [
    "# Creating list with NER results of spacy model"
   ]
  },
  {
   "cell_type": "code",
   "execution_count": 66,
   "id": "ffdcb440",
   "metadata": {},
   "outputs": [
    {
     "name": "stdout",
     "output_type": "stream",
     "text": [
      "Unexpected exception formatting exception. Falling back to standard exception\n"
     ]
    },
    {
     "name": "stderr",
     "output_type": "stream",
     "text": [
      "Traceback (most recent call last):\n",
      "  File \"D:\\TH_Koeln\\WS21-22\\Bachelorarbeit\\python_scripts\\venv_spacy\\lib\\site-packages\\IPython\\core\\interactiveshell.py\", line 3369, in run_code\n",
      "    exec(code_obj, self.user_global_ns, self.user_ns)\n",
      "  File \"C:\\Users\\Florian\\AppData\\Local\\Temp\\ipykernel_10496\\2878961482.py\", line 2, in <cell line: 2>\n",
      "    doc = nlp(str(text))\n",
      "  File \"D:\\TH_Koeln\\WS21-22\\Bachelorarbeit\\python_scripts\\venv_spacy\\lib\\site-packages\\spacy\\language.py\", line 1017, in __call__\n",
      "    doc = proc(doc, **component_cfg.get(name, {}))  # type: ignore[call-arg]\n",
      "  File \"D:\\TH_Koeln\\WS21-22\\Bachelorarbeit\\python_scripts\\venv_spacy\\lib\\site-packages\\spacy_transformers\\pipeline_component.py\", line 192, in __call__\n",
      "    outputs = self.predict([doc])\n",
      "  File \"D:\\TH_Koeln\\WS21-22\\Bachelorarbeit\\python_scripts\\venv_spacy\\lib\\site-packages\\spacy_transformers\\pipeline_component.py\", line 228, in predict\n",
      "    activations = self.model.predict(docs)\n",
      "  File \"D:\\TH_Koeln\\WS21-22\\Bachelorarbeit\\python_scripts\\venv_spacy\\lib\\site-packages\\thinc\\model.py\", line 315, in predict\n",
      "    return self._func(self, X, is_train=False)[0]\n",
      "  File \"D:\\TH_Koeln\\WS21-22\\Bachelorarbeit\\python_scripts\\venv_spacy\\lib\\site-packages\\spacy_transformers\\layers\\transformer_model.py\", line 181, in forward\n",
      "    align = get_alignment(flat_spans, wordpieces.strings, tokenizer.all_special_tokens)\n",
      "  File \"D:\\TH_Koeln\\WS21-22\\Bachelorarbeit\\python_scripts\\venv_spacy\\lib\\site-packages\\spacy_transformers\\align.py\", line 146, in get_alignment\n",
      "    token_positions = get_token_positions(spans)\n",
      "  File \"D:\\TH_Koeln\\WS21-22\\Bachelorarbeit\\python_scripts\\venv_spacy\\lib\\site-packages\\spacy_transformers\\align.py\", line -1, in get_token_positions\n",
      "KeyboardInterrupt\n",
      "\n",
      "During handling of the above exception, another exception occurred:\n",
      "\n",
      "Traceback (most recent call last):\n",
      "  File \"D:\\TH_Koeln\\WS21-22\\Bachelorarbeit\\python_scripts\\venv_spacy\\lib\\site-packages\\IPython\\core\\interactiveshell.py\", line 1982, in showtraceback\n",
      "    stb = self.InteractiveTB.structured_traceback(\n",
      "  File \"D:\\TH_Koeln\\WS21-22\\Bachelorarbeit\\python_scripts\\venv_spacy\\lib\\site-packages\\IPython\\core\\ultratb.py\", line 1118, in structured_traceback\n",
      "    return FormattedTB.structured_traceback(\n",
      "  File \"D:\\TH_Koeln\\WS21-22\\Bachelorarbeit\\python_scripts\\venv_spacy\\lib\\site-packages\\IPython\\core\\ultratb.py\", line 1012, in structured_traceback\n",
      "    return VerboseTB.structured_traceback(\n",
      "  File \"D:\\TH_Koeln\\WS21-22\\Bachelorarbeit\\python_scripts\\venv_spacy\\lib\\site-packages\\IPython\\core\\ultratb.py\", line 865, in structured_traceback\n",
      "    formatted_exception = self.format_exception_as_a_whole(etype, evalue, etb, number_of_lines_of_context,\n",
      "  File \"D:\\TH_Koeln\\WS21-22\\Bachelorarbeit\\python_scripts\\venv_spacy\\lib\\site-packages\\IPython\\core\\ultratb.py\", line 818, in format_exception_as_a_whole\n",
      "    frames.append(self.format_record(r))\n",
      "  File \"D:\\TH_Koeln\\WS21-22\\Bachelorarbeit\\python_scripts\\venv_spacy\\lib\\site-packages\\IPython\\core\\ultratb.py\", line 736, in format_record\n",
      "    result += ''.join(_format_traceback_lines(frame_info.lines, Colors, self.has_colors, lvals))\n",
      "  File \"D:\\TH_Koeln\\WS21-22\\Bachelorarbeit\\python_scripts\\venv_spacy\\lib\\site-packages\\stack_data\\utils.py\", line 145, in cached_property_wrapper\n",
      "    value = obj.__dict__[self.func.__name__] = self.func(obj)\n",
      "  File \"D:\\TH_Koeln\\WS21-22\\Bachelorarbeit\\python_scripts\\venv_spacy\\lib\\site-packages\\stack_data\\core.py\", line 698, in lines\n",
      "    pieces = self.included_pieces\n",
      "  File \"D:\\TH_Koeln\\WS21-22\\Bachelorarbeit\\python_scripts\\venv_spacy\\lib\\site-packages\\stack_data\\utils.py\", line 145, in cached_property_wrapper\n",
      "    value = obj.__dict__[self.func.__name__] = self.func(obj)\n",
      "  File \"D:\\TH_Koeln\\WS21-22\\Bachelorarbeit\\python_scripts\\venv_spacy\\lib\\site-packages\\stack_data\\core.py\", line 649, in included_pieces\n",
      "    pos = scope_pieces.index(self.executing_piece)\n",
      "  File \"D:\\TH_Koeln\\WS21-22\\Bachelorarbeit\\python_scripts\\venv_spacy\\lib\\site-packages\\stack_data\\utils.py\", line 145, in cached_property_wrapper\n",
      "    value = obj.__dict__[self.func.__name__] = self.func(obj)\n",
      "  File \"D:\\TH_Koeln\\WS21-22\\Bachelorarbeit\\python_scripts\\venv_spacy\\lib\\site-packages\\stack_data\\core.py\", line 628, in executing_piece\n",
      "    return only(\n",
      "  File \"D:\\TH_Koeln\\WS21-22\\Bachelorarbeit\\python_scripts\\venv_spacy\\lib\\site-packages\\executing\\executing.py\", line 164, in only\n",
      "    raise NotOneValueFound('Expected one value, found 0')\n",
      "executing.executing.NotOneValueFound: Expected one value, found 0\n"
     ]
    }
   ],
   "source": [
    "nlp = spacy.load('en_core_web_trf')\n",
    "doc = nlp(str(text))\n",
    "\n",
    "ner_spacy = []\n",
    "for e in doc.ents:\n",
    "    if e.label_=='ORGANISM':\n",
    "        ner_scispacy.append((e.start_char, e.end_char))"
   ]
  },
  {
   "cell_type": "markdown",
   "id": "4bea5fab",
   "metadata": {},
   "source": [
    "# Creating list with NER results of scispacy model"
   ]
  },
  {
   "cell_type": "code",
   "execution_count": 8,
   "id": "02718424",
   "metadata": {},
   "outputs": [],
   "source": [
    "nlp_sci = spacy.load('en_ner_jnlpba_md')\n",
    "doc_sci = nlp_sci(str(text))\n",
    "\n",
    "ner_scispacy = []\n",
    "for e in doc_sci.ents:\n",
    "    if e.label_=='CELL_TYPE':\n",
    "        ner_scispacy.append((e.start_char, e.end_char))"
   ]
  },
  {
   "cell_type": "markdown",
   "id": "88b17d35",
   "metadata": {},
   "source": [
    "# Creating list with NER results of custom model"
   ]
  },
  {
   "cell_type": "code",
   "execution_count": 96,
   "id": "628ba84b",
   "metadata": {},
   "outputs": [
    {
     "name": "stdout",
     "output_type": "stream",
     "text": [
      "[(1092, 1117), (1119, 1151), (1153, 1176), (1178, 1198), (1200, 1223), (1250, 1268), (1270, 1289), (1291, 1312), (1317, 1340), (3905, 3921), (21962, 21977), (22261, 22276), (25720, 25735), (25756, 25780), (25799, 25826), (25844, 25863), (25880, 25901), (25923, 25945), (38408, 38423), (38430, 38451), (40670, 40687), (40706, 40727), (40748, 40767), (40826, 40839), (40860, 40877), (40894, 40912), (40933, 40950), (40968, 40989), (41014, 41040), (41058, 41073), (41096, 41116), (41142, 41163), (41198, 41222), (41604, 41624), (41642, 41659), (41682, 41700), (41762, 41785), (41806, 41827), (41855, 41881), (60853, 60876), (61067, 61110), (63544, 63564), (63967, 63990), (64581, 64605), (71498, 71522), (81347, 81371)]\n"
     ]
    }
   ],
   "source": [
    "nlp_custom = English()\n",
    "ruler = nlp_custom.add_pipe(\"entity_ruler\")\n",
    "ruler.from_disk(\"./entity_ruler_species\") \n",
    "\n",
    "\n",
    "doc_custom = nlp_custom(text)\n",
    "\n",
    "ner_custom = []\n",
    "for e in doc_custom.ents:\n",
    "    if e.label_=='SPECIES':\n",
    "        ner_custom.append((e.start_char, e.end_char))"
   ]
  },
  {
   "cell_type": "markdown",
   "id": "f298d16f",
   "metadata": {},
   "source": [
    "# Creating list with NER annotations to test against"
   ]
  },
  {
   "cell_type": "code",
   "execution_count": 97,
   "id": "bd9dac04",
   "metadata": {},
   "outputs": [],
   "source": [
    "# copied and pasted start char, end char and labels of all entities from '10_fulltexts_annotation.jsonl' \n",
    "list_annotated_species = [[1092,1117,\"SPECIES\"],[1119,1151,\"SPECIES\"],[1153,1176,\"SPECIES\"],[1178,1198,\"SPECIES\"],[1200,1223,\"SPECIES\"],[1225,1248,\"SPECIES\"],[1250,1268,\"SPECIES\"],[1270,1289,\"SPECIES\"],[1291,1312,\"SPECIES\"],[1317,1340,\"SPECIES\"],[1461,1480,\"SPECIES\"],[3905,3921,\"SPECIES\"],[4742,4754,\"SPECIES\"],[4756,4768,\"SPECIES\"],[4770,4782,\"SPECIES\"],[4784,4805,\"SPECIES\"],[4807,4817,\"SPECIES\"],[4819,4828,\"SPECIES\"],[4833,4847,\"SPECIES\"],[5090,5104,\"SPECIES\"],[5112,5124,\"SPECIES\"],[5138,5159,\"SPECIES\"],[8052,8066,\"SPECIES\"],[8447,8459,\"SPECIES\"],[9002,9014,\"SPECIES\"],[9562,9576,\"SPECIES\"],[9681,9702,\"SPECIES\"],[9918,9932,\"SPECIES\"],[9952,9973,\"SPECIES\"],[14975,14989,\"SPECIES\"],[15009,15030,\"SPECIES\"],[15419,15433,\"SPECIES\"],[15507,15528,\"SPECIES\"],[17446,17483,\"SPECIES\"],[17497,17525,\"SPECIES\"],[20179,20193,\"SPECIES\"],[20213,20234,\"SPECIES\"],[20250,20262,\"SPECIES\"],[20275,20287,\"SPECIES\"],[20297,20306,\"SPECIES\"],[20318,20330,\"SPECIES\"],[20342,20349,\"SPECIES\"],[20364,20372,\"SPECIES\"],[20387,20397,\"SPECIES\"],[20410,20422,\"SPECIES\"],[20732,20746,\"SPECIES\"],[20767,20788,\"SPECIES\"],[20965,20977,\"SPECIES\"],[20987,20999,\"SPECIES\"],[21006,21015,\"SPECIES\"],[21024,21036,\"SPECIES\"],[21045,21052,\"SPECIES\"],[21064,21072,\"SPECIES\"],[21083,21093,\"SPECIES\"],[21106,21118,\"SPECIES\"],[21358,21372,\"SPECIES\"],[21392,21413,\"SPECIES\"],[21429,21441,\"SPECIES\"],[21466,21475,\"SPECIES\"],[21487,21499,\"SPECIES\"],[21511,21518,\"SPECIES\"],[21533,21541,\"SPECIES\"],[21556,21566,\"SPECIES\"],[21579,21591,\"SPECIES\"],[21962,21977,\"SPECIES\"],[22261,22276,\"SPECIES\"],[22278,22301,\"SPECIES\"],[22303,22323,\"SPECIES\"],[22325,22344,\"SPECIES\"],[22349,22374,\"SPECIES\"],[24085,24092,\"SPECIES\"],[24323,24330,\"SPECIES\"],[25720,25735,\"SPECIES\"],[25756,25780,\"SPECIES\"],[25799,25826,\"SPECIES\"],[25844,25863,\"SPECIES\"],[25880,25901,\"SPECIES\"],[25923,25945,\"SPECIES\"],[26058,26065,\"SPECIES\"],[26351,26358,\"SPECIES\"],[27207,27214,\"SPECIES\"],[28406,28413,\"SPECIES\"],[30086,30093,\"SPECIES\"],[30385,30392,\"SPECIES\"],[30810,30817,\"SPECIES\"],[30890,30897,\"SPECIES\"],[30992,30999,\"SPECIES\"],[31155,31162,\"SPECIES\"],[31378,31385,\"SPECIES\"],[31789,31796,\"SPECIES\"],[32778,32785,\"SPECIES\"],[32925,32932,\"SPECIES\"],[33200,33207,\"SPECIES\"],[33330,33337,\"SPECIES\"],[33536,33565,\"SPECIES\"],[33579,33599,\"SPECIES\"],[36578,36592,\"SPECIES\"],[36607,36614,\"SPECIES\"],[36913,36928,\"SPECIES\"],[36954,36961,\"SPECIES\"],[38408,38423,\"SPECIES\"],[38430,38451,\"SPECIES\"],[40670,40687,\"SPECIES\"],[40706,40727,\"SPECIES\"],[40748,40767,\"SPECIES\"],[40789,40808,\"SPECIES\"],[40826,40839,\"SPECIES\"],[40860,40877,\"SPECIES\"],[40894,40912,\"SPECIES\"],[40933,40950,\"SPECIES\"],[40968,40989,\"SPECIES\"],[41014,41040,\"SPECIES\"],[41058,41073,\"SPECIES\"],[41096,41116,\"SPECIES\"],[41142,41163,\"SPECIES\"],[41198,41222,\"SPECIES\"],[41453,41464,\"SPECIES\"],[41604,41624,\"SPECIES\"],[41642,41659,\"SPECIES\"],[41682,41700,\"SPECIES\"],[41723,41743,\"SPECIES\"],[41762,41785,\"SPECIES\"],[41806,41827,\"SPECIES\"],[41855,41881,\"SPECIES\"],[44000,44011,\"SPECIES\"],[44115,44126,\"SPECIES\"],[44201,44212,\"SPECIES\"],[44390,44401,\"SPECIES\"],[44490,44501,\"SPECIES\"],[44558,44569,\"SPECIES\"],[45431,45442,\"SPECIES\"],[45537,45548,\"SPECIES\"],[45648,45659,\"SPECIES\"],[45866,45877,\"SPECIES\"],[47087,47095,\"SPECIES\"],[47617,47625,\"SPECIES\"],[47716,47724,\"SPECIES\"],[47739,47750,\"SPECIES\"],[47893,47901,\"SPECIES\"],[47917,47928,\"SPECIES\"],[51639,51669,\"SPECIES\"],[51674,51707,\"SPECIES\"],[51722,51743,\"SPECIES\"],[54880,54904,\"SPECIES\"],[58487,58498,\"SPECIES\"],[58514,58525,\"SPECIES\"],[58541,58554,\"SPECIES\"],[58570,58585,\"SPECIES\"],[58601,58621,\"SPECIES\"],[58637,58651,\"SPECIES\"],[58668,58680,\"SPECIES\"],[58696,58703,\"SPECIES\"],[58721,58730,\"SPECIES\"],[58749,58764,\"SPECIES\"],[58782,58797,\"SPECIES\"],[58815,58826,\"SPECIES\"],[58842,58855,\"SPECIES\"],[58952,58963,\"SPECIES\"],[59218,59226,\"SPECIES\"],[59242,59253,\"SPECIES\"],[59270,59281,\"SPECIES\"],[59298,59307,\"SPECIES\"],[59323,59337,\"SPECIES\"],[59353,59365,\"SPECIES\"],[59382,59399,\"SPECIES\"],[59499,59507,\"SPECIES\"],[59741,59752,\"SPECIES\"],[59768,59779,\"SPECIES\"],[59795,59808,\"SPECIES\"],[59824,59839,\"SPECIES\"],[59855,59875,\"SPECIES\"],[59891,59905,\"SPECIES\"],[59922,59934,\"SPECIES\"],[59950,59957,\"SPECIES\"],[59975,59984,\"SPECIES\"],[60003,60018,\"SPECIES\"],[60036,60051,\"SPECIES\"],[60069,60080,\"SPECIES\"],[60096,60109,\"SPECIES\"],[60190,60201,\"SPECIES\"],[60436,60444,\"SPECIES\"],[60460,60471,\"SPECIES\"],[60488,60499,\"SPECIES\"],[60516,60525,\"SPECIES\"],[60541,60555,\"SPECIES\"],[60571,60583,\"SPECIES\"],[60600,60617,\"SPECIES\"],[60691,60699,\"SPECIES\"],[60853,60876,\"SPECIES\"],[61067,61110,\"SPECIES\"],[61157,61197,\"SPECIES\"],[61258,61288,\"SPECIES\"],[63544,63564,\"SPECIES\"],[63967,63990,\"SPECIES\"],[64581,64614,\"SPECIES\"],[70722,70757,\"SPECIES\"],[71002,71015,\"SPECIES\"],[71209,71222,\"SPECIES\"],[71498,71522,\"SPECIES\"],[80122,80135,\"SPECIES\"],[80328,80341,\"SPECIES\"],[81110,81146,\"SPECIES\"],[81154,81167,\"SPECIES\"]]"
   ]
  },
  {
   "cell_type": "code",
   "execution_count": 98,
   "id": "6fc2c812",
   "metadata": {},
   "outputs": [],
   "source": [
    "# pick only the start and end chars from list to compare with models\n",
    "annotated_species = [tuple(x[0:2]) for x in list_annotated_species]"
   ]
  },
  {
   "cell_type": "markdown",
   "id": "2cb2fcc0",
   "metadata": {},
   "source": [
    "# Test the models"
   ]
  },
  {
   "cell_type": "code",
   "execution_count": 99,
   "id": "dac43238",
   "metadata": {},
   "outputs": [],
   "source": [
    "def ner_result_counter(ner_results):\n",
    "    counter = 0\n",
    "    for ent in ner_results:\n",
    "        if ent in annotated_species:\n",
    "            counter = counter + 1\n",
    "    print(counter,' / ', len(annotated_species), '= average: ', counter/len(annotated_species))"
   ]
  },
  {
   "cell_type": "code",
   "execution_count": 100,
   "id": "49784fe4",
   "metadata": {},
   "outputs": [
    {
     "name": "stdout",
     "output_type": "stream",
     "text": [
      "0  /  203 = average:  0.0\n"
     ]
    }
   ],
   "source": [
    "ner_result_counter(ner_scispacy)"
   ]
  },
  {
   "cell_type": "code",
   "execution_count": 101,
   "id": "42c50f3d",
   "metadata": {},
   "outputs": [
    {
     "name": "stdout",
     "output_type": "stream",
     "text": [
      "44  /  203 = average:  0.21674876847290642\n"
     ]
    }
   ],
   "source": [
    "ner_result_counter(ner_custom)"
   ]
  }
 ],
 "metadata": {
  "kernelspec": {
   "display_name": "venv_spacy",
   "language": "python",
   "name": "venv_spacy"
  },
  "language_info": {
   "codemirror_mode": {
    "name": "ipython",
    "version": 3
   },
   "file_extension": ".py",
   "mimetype": "text/x-python",
   "name": "python",
   "nbconvert_exporter": "python",
   "pygments_lexer": "ipython3",
   "version": "3.10.2"
  }
 },
 "nbformat": 4,
 "nbformat_minor": 5
}
