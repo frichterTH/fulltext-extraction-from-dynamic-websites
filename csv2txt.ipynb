{
 "cells": [
  {
   "cell_type": "code",
   "execution_count": 18,
   "id": "6b991d7e",
   "metadata": {},
   "outputs": [],
   "source": [
    "import pandas as pd"
   ]
  },
  {
   "cell_type": "code",
   "execution_count": 19,
   "id": "89f330e1",
   "metadata": {},
   "outputs": [],
   "source": [
    "# extracts the first 10 full texts\n",
    "df = pd.read_csv('cleaned_fulltext_articles.csv')\n",
    "list_text = df.loc[:35,'fulltext'].dropna().tolist()\n",
    "text = ' '.join(map(str, list_text))"
   ]
  },
  {
   "cell_type": "code",
   "execution_count": 20,
   "id": "c3c17130",
   "metadata": {},
   "outputs": [],
   "source": [
    "# save text in text file\n",
    "text_file = open('10_fulltexts.txt', 'w', encoding='utf-8')\n",
    "n = text_file.write(text)\n",
    "text_file.close()"
   ]
  }
 ],
 "metadata": {
  "kernelspec": {
   "display_name": "venv_spacy",
   "language": "python",
   "name": "venv_spacy"
  },
  "language_info": {
   "codemirror_mode": {
    "name": "ipython",
    "version": 3
   },
   "file_extension": ".py",
   "mimetype": "text/x-python",
   "name": "python",
   "nbconvert_exporter": "python",
   "pygments_lexer": "ipython3",
   "version": "3.10.2"
  }
 },
 "nbformat": 4,
 "nbformat_minor": 5
}
