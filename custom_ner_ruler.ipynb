{
 "cells": [
  {
   "cell_type": "code",
   "execution_count": 9,
   "id": "ed3944d6",
   "metadata": {},
   "outputs": [],
   "source": [
    "import spacy\n",
    "from spacy.lang.en import English\n",
    "from spacy.pipeline import EntityRuler\n",
    "import pandas as pd"
   ]
  },
  {
   "cell_type": "code",
   "execution_count": 10,
   "id": "68f56d15",
   "metadata": {},
   "outputs": [],
   "source": [
    "# reads species names from CSV to df and converts it to list \n",
    "df_species = pd.read_csv(\"species_names_list.csv\")\n",
    "list_species = df_species[\"species\"].tolist()"
   ]
  },
  {
   "cell_type": "code",
   "execution_count": 11,
   "id": "5cc456e2",
   "metadata": {},
   "outputs": [],
   "source": [
    "# creates the pattern for NER species ruler\n",
    "def create_keywords_ner_pattern():\n",
    "    species = list_species\n",
    "    patterns = []\n",
    "    for item in species:\n",
    "        pattern = {\n",
    "            \"label\": \"SPECIES\",\n",
    "            \"pattern\": item\n",
    "        }\n",
    "        patterns.append(pattern)\n",
    "        \n",
    "    return (patterns)\n",
    "\n",
    "# run the function    \n",
    "patterns = create_keywords_ner_pattern()"
   ]
  },
  {
   "cell_type": "code",
   "execution_count": 12,
   "id": "975c010a",
   "metadata": {},
   "outputs": [],
   "source": [
    "# creates ruler\n",
    "nlp = English()\n",
    "ruler = nlp.add_pipe(\"entity_ruler\")\n",
    "ruler.add_patterns(patterns)"
   ]
  },
  {
   "cell_type": "code",
   "execution_count": 13,
   "id": "55333741",
   "metadata": {},
   "outputs": [],
   "source": [
    "with open('10_fulltexts.txt', encoding='utf-8') as f:\n",
    "    text = f.read()\n",
    "    \n",
    "doc_sci = nlp(str(text))"
   ]
  },
  {
   "cell_type": "code",
   "execution_count": 14,
   "id": "c6f1bb27",
   "metadata": {},
   "outputs": [],
   "source": [
    "# saves ruler to disk\n",
    "ruler.to_disk('entity_ruler_species')"
   ]
  }
 ],
 "metadata": {
  "kernelspec": {
   "display_name": "venv_spacy",
   "language": "python",
   "name": "venv_spacy"
  },
  "language_info": {
   "codemirror_mode": {
    "name": "ipython",
    "version": 3
   },
   "file_extension": ".py",
   "mimetype": "text/x-python",
   "name": "python",
   "nbconvert_exporter": "python",
   "pygments_lexer": "ipython3",
   "version": "3.10.2"
  }
 },
 "nbformat": 4,
 "nbformat_minor": 5
}
